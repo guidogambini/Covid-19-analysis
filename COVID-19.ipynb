{
 "cells": [
  {
   "cell_type": "code",
   "execution_count": 34,
   "metadata": {},
   "outputs": [],
   "source": [
    "import pandas as pd\n",
    "import matplotlib.pyplot as plt\n",
    "import seaborn as sns\n",
    "import numpy as np"
   ]
  },
  {
   "cell_type": "code",
   "execution_count": 3,
   "metadata": {},
   "outputs": [],
   "source": [
    "data = pd.read_json('http://coronavirus-19-api.herokuapp.com/countries')"
   ]
  },
  {
   "cell_type": "code",
   "execution_count": 4,
   "metadata": {},
   "outputs": [
    {
     "data": {
      "text/html": [
       "<div>\n",
       "<style scoped>\n",
       "    .dataframe tbody tr th:only-of-type {\n",
       "        vertical-align: middle;\n",
       "    }\n",
       "\n",
       "    .dataframe tbody tr th {\n",
       "        vertical-align: top;\n",
       "    }\n",
       "\n",
       "    .dataframe thead th {\n",
       "        text-align: right;\n",
       "    }\n",
       "</style>\n",
       "<table border=\"1\" class=\"dataframe\">\n",
       "  <thead>\n",
       "    <tr style=\"text-align: right;\">\n",
       "      <th></th>\n",
       "      <th>country</th>\n",
       "      <th>cases</th>\n",
       "      <th>todayCases</th>\n",
       "      <th>deaths</th>\n",
       "      <th>todayDeaths</th>\n",
       "      <th>recovered</th>\n",
       "      <th>active</th>\n",
       "      <th>critical</th>\n",
       "      <th>casesPerOneMillion</th>\n",
       "      <th>deathsPerOneMillion</th>\n",
       "      <th>totalTests</th>\n",
       "      <th>testsPerOneMillion</th>\n",
       "    </tr>\n",
       "  </thead>\n",
       "  <tbody>\n",
       "    <tr>\n",
       "      <th>0</th>\n",
       "      <td>World</td>\n",
       "      <td>40599201</td>\n",
       "      <td>302980</td>\n",
       "      <td>1122091</td>\n",
       "      <td>3728</td>\n",
       "      <td>30326916.0</td>\n",
       "      <td>9150194.0</td>\n",
       "      <td>72591</td>\n",
       "      <td>5208</td>\n",
       "      <td>144</td>\n",
       "      <td>0</td>\n",
       "      <td>0</td>\n",
       "    </tr>\n",
       "    <tr>\n",
       "      <th>1</th>\n",
       "      <td>USA</td>\n",
       "      <td>8443499</td>\n",
       "      <td>45398</td>\n",
       "      <td>225151</td>\n",
       "      <td>377</td>\n",
       "      <td>5491461.0</td>\n",
       "      <td>2726887.0</td>\n",
       "      <td>15365</td>\n",
       "      <td>25464</td>\n",
       "      <td>679</td>\n",
       "      <td>126935424</td>\n",
       "      <td>382815</td>\n",
       "    </tr>\n",
       "    <tr>\n",
       "      <th>2</th>\n",
       "      <td>India</td>\n",
       "      <td>7594284</td>\n",
       "      <td>46046</td>\n",
       "      <td>115235</td>\n",
       "      <td>593</td>\n",
       "      <td>6730379.0</td>\n",
       "      <td>748670.0</td>\n",
       "      <td>8944</td>\n",
       "      <td>5487</td>\n",
       "      <td>83</td>\n",
       "      <td>95083976</td>\n",
       "      <td>68700</td>\n",
       "    </tr>\n",
       "    <tr>\n",
       "      <th>3</th>\n",
       "      <td>Brazil</td>\n",
       "      <td>5250727</td>\n",
       "      <td>15383</td>\n",
       "      <td>154176</td>\n",
       "      <td>271</td>\n",
       "      <td>4681659.0</td>\n",
       "      <td>414892.0</td>\n",
       "      <td>8318</td>\n",
       "      <td>24650</td>\n",
       "      <td>724</td>\n",
       "      <td>17900000</td>\n",
       "      <td>84033</td>\n",
       "    </tr>\n",
       "    <tr>\n",
       "      <th>4</th>\n",
       "      <td>Russia</td>\n",
       "      <td>1415316</td>\n",
       "      <td>15982</td>\n",
       "      <td>24366</td>\n",
       "      <td>179</td>\n",
       "      <td>1075904.0</td>\n",
       "      <td>315046.0</td>\n",
       "      <td>2300</td>\n",
       "      <td>9697</td>\n",
       "      <td>167</td>\n",
       "      <td>54300208</td>\n",
       "      <td>372038</td>\n",
       "    </tr>\n",
       "  </tbody>\n",
       "</table>\n",
       "</div>"
      ],
      "text/plain": [
       "  country     cases  todayCases   deaths  todayDeaths   recovered     active  \\\n",
       "0   World  40599201      302980  1122091         3728  30326916.0  9150194.0   \n",
       "1     USA   8443499       45398   225151          377   5491461.0  2726887.0   \n",
       "2   India   7594284       46046   115235          593   6730379.0   748670.0   \n",
       "3  Brazil   5250727       15383   154176          271   4681659.0   414892.0   \n",
       "4  Russia   1415316       15982    24366          179   1075904.0   315046.0   \n",
       "\n",
       "   critical  casesPerOneMillion  deathsPerOneMillion  totalTests  \\\n",
       "0     72591                5208                  144           0   \n",
       "1     15365               25464                  679   126935424   \n",
       "2      8944                5487                   83    95083976   \n",
       "3      8318               24650                  724    17900000   \n",
       "4      2300                9697                  167    54300208   \n",
       "\n",
       "   testsPerOneMillion  \n",
       "0                   0  \n",
       "1              382815  \n",
       "2               68700  \n",
       "3               84033  \n",
       "4              372038  "
      ]
     },
     "execution_count": 4,
     "metadata": {},
     "output_type": "execute_result"
    }
   ],
   "source": [
    "data.head()"
   ]
  },
  {
   "cell_type": "code",
   "execution_count": 7,
   "metadata": {},
   "outputs": [
    {
     "data": {
      "text/plain": [
       "array(['World', 'USA', 'India', 'Brazil', 'Russia', 'Spain', 'Argentina',\n",
       "       'Colombia', 'France', 'Peru', 'Mexico', 'UK', 'South Africa',\n",
       "       'Iran', 'Chile', 'Iraq', 'Italy', 'Bangladesh', 'Germany',\n",
       "       'Indonesia', 'Philippines', 'Turkey', 'Saudi Arabia', 'Pakistan',\n",
       "       'Israel', 'Ukraine', 'Netherlands', 'Belgium', 'Canada', 'Poland',\n",
       "       'Romania', 'Czechia', 'Morocco', 'Ecuador', 'Bolivia', 'Nepal',\n",
       "       'Qatar', 'Panama', 'Dominican Republic', 'Kuwait', 'UAE', 'Oman',\n",
       "       'Kazakhstan', 'Egypt', 'Sweden', 'Portugal', 'Guatemala',\n",
       "       'Costa Rica', 'Japan', 'Ethiopia', 'Honduras', 'Belarus',\n",
       "       'Venezuela', 'Switzerland', 'Bahrain', 'Moldova', 'Austria',\n",
       "       'Armenia', 'Uzbekistan', 'Lebanon', 'Nigeria', 'Singapore',\n",
       "       'Paraguay', 'Algeria', 'Kyrgyzstan', 'Ireland', 'Libya', 'Hungary',\n",
       "       'Palestine', 'Ghana', 'Azerbaijan', 'Kenya', 'Tunisia',\n",
       "       'Afghanistan', 'Jordan', 'Myanmar', 'Serbia', 'Denmark',\n",
       "       'Bosnia and Herzegovina', 'El Salvador', 'Slovakia', 'Bulgaria',\n",
       "       'Australia', 'Croatia', 'Greece', 'S. Korea', 'North Macedonia',\n",
       "       'Cameroon', 'Malaysia', 'Ivory Coast', 'Georgia', 'Albania',\n",
       "       'Madagascar', 'Norway', 'Zambia', 'Montenegro', 'Senegal', 'Sudan',\n",
       "       'Slovenia', 'Finland', 'Namibia', 'Guinea', 'Maldives',\n",
       "       'Mozambique', 'DRC', 'Luxembourg', 'Uganda', 'Tajikistan',\n",
       "       'French Guiana', 'Haiti', 'Gabon', 'Jamaica', 'Zimbabwe',\n",
       "       'Cabo Verde', 'Lithuania', 'Angola', 'Mauritania', 'Guadeloupe',\n",
       "       'Cuba', 'Malawi', 'Eswatini', 'Bahamas', 'Sri Lanka', 'Botswana',\n",
       "       'Djibouti', 'Nicaragua', 'Trinidad and Tobago', 'Hong Kong',\n",
       "       'Congo', 'Syria', 'Suriname', 'Equatorial Guinea', 'Rwanda',\n",
       "       'Réunion', 'CAR', 'Malta', 'Aruba', 'Mayotte', 'Iceland',\n",
       "       'Estonia', 'Somalia', 'French Polynesia', 'Guyana', 'Thailand',\n",
       "       'Gambia', 'Andorra', 'Latvia', 'Mali', 'South Sudan', 'Belize',\n",
       "       'Cyprus', 'Uruguay', 'Benin', 'Guinea-Bissau', 'Burkina Faso',\n",
       "       'Sierra Leone', 'Martinique', 'Togo', 'Yemen', 'New Zealand',\n",
       "       'Lesotho', 'Chad', 'Liberia', 'Niger', 'Vietnam',\n",
       "       'Sao Tome and Principe', 'Channel Islands', 'San Marino',\n",
       "       'Sint Maarten', 'Curaçao', 'Diamond Princess', 'Turks and Caicos',\n",
       "       'Papua New Guinea', 'Gibraltar', 'Burundi', 'Taiwan',\n",
       "       'Saint Martin', 'Tanzania', 'Comoros', 'Faeroe Islands', 'Eritrea',\n",
       "       'Mauritius', 'Isle of Man', 'Bhutan', 'Mongolia', 'Cambodia',\n",
       "       'Monaco', 'Cayman Islands', 'Liechtenstein', 'Barbados', 'Bermuda',\n",
       "       'Caribbean Netherlands', 'Seychelles', 'Brunei',\n",
       "       'Antigua and Barbuda', 'St. Barth', 'British Virgin Islands',\n",
       "       'St. Vincent Grenadines', 'Macao', 'Saint Lucia', 'Dominica',\n",
       "       'Fiji', 'Timor-Leste', 'Grenada', 'Vatican City', 'New Caledonia',\n",
       "       'Laos', 'Saint Kitts and Nevis', 'Greenland',\n",
       "       'Saint Pierre Miquelon', 'Montserrat', 'Falkland Islands',\n",
       "       'Western Sahara', 'MS Zaandam', 'Anguilla', 'Solomon Islands',\n",
       "       'Wallis and Futuna', 'China'], dtype=object)"
      ]
     },
     "execution_count": 7,
     "metadata": {},
     "output_type": "execute_result"
    }
   ],
   "source": [
    "data.country.unique()"
   ]
  },
  {
   "cell_type": "code",
   "execution_count": 10,
   "metadata": {},
   "outputs": [],
   "source": [
    "#Coronavirus in the world:\n",
    "\n",
    "mundo = data[data.country == 'World']"
   ]
  },
  {
   "cell_type": "code",
   "execution_count": 11,
   "metadata": {},
   "outputs": [
    {
     "data": {
      "text/html": [
       "<div>\n",
       "<style scoped>\n",
       "    .dataframe tbody tr th:only-of-type {\n",
       "        vertical-align: middle;\n",
       "    }\n",
       "\n",
       "    .dataframe tbody tr th {\n",
       "        vertical-align: top;\n",
       "    }\n",
       "\n",
       "    .dataframe thead th {\n",
       "        text-align: right;\n",
       "    }\n",
       "</style>\n",
       "<table border=\"1\" class=\"dataframe\">\n",
       "  <thead>\n",
       "    <tr style=\"text-align: right;\">\n",
       "      <th></th>\n",
       "      <th>country</th>\n",
       "      <th>cases</th>\n",
       "      <th>todayCases</th>\n",
       "      <th>deaths</th>\n",
       "      <th>todayDeaths</th>\n",
       "      <th>recovered</th>\n",
       "      <th>active</th>\n",
       "      <th>critical</th>\n",
       "      <th>casesPerOneMillion</th>\n",
       "      <th>deathsPerOneMillion</th>\n",
       "      <th>totalTests</th>\n",
       "      <th>testsPerOneMillion</th>\n",
       "    </tr>\n",
       "  </thead>\n",
       "  <tbody>\n",
       "    <tr>\n",
       "      <th>0</th>\n",
       "      <td>World</td>\n",
       "      <td>40599201</td>\n",
       "      <td>302980</td>\n",
       "      <td>1122091</td>\n",
       "      <td>3728</td>\n",
       "      <td>30326916.0</td>\n",
       "      <td>9150194.0</td>\n",
       "      <td>72591</td>\n",
       "      <td>5208</td>\n",
       "      <td>144</td>\n",
       "      <td>0</td>\n",
       "      <td>0</td>\n",
       "    </tr>\n",
       "  </tbody>\n",
       "</table>\n",
       "</div>"
      ],
      "text/plain": [
       "  country     cases  todayCases   deaths  todayDeaths   recovered     active  \\\n",
       "0   World  40599201      302980  1122091         3728  30326916.0  9150194.0   \n",
       "\n",
       "   critical  casesPerOneMillion  deathsPerOneMillion  totalTests  \\\n",
       "0     72591                5208                  144           0   \n",
       "\n",
       "   testsPerOneMillion  \n",
       "0                   0  "
      ]
     },
     "execution_count": 11,
     "metadata": {},
     "output_type": "execute_result"
    }
   ],
   "source": [
    "mundo"
   ]
  },
  {
   "cell_type": "code",
   "execution_count": 13,
   "metadata": {},
   "outputs": [
    {
     "data": {
      "text/plain": [
       "0    0.027638\n",
       "dtype: float64"
      ]
     },
     "execution_count": 13,
     "metadata": {},
     "output_type": "execute_result"
    }
   ],
   "source": [
    "tasa_letalidad = mundo.deaths / mundo.cases\n",
    "tasa_letalidad"
   ]
  },
  {
   "cell_type": "code",
   "execution_count": 14,
   "metadata": {},
   "outputs": [
    {
     "data": {
      "text/plain": [
       "0    0.000144\n",
       "Name: deaths, dtype: float64"
      ]
     },
     "execution_count": 14,
     "metadata": {},
     "output_type": "execute_result"
    }
   ],
   "source": [
    "poblacion_mundial = 7800124000\n",
    "tasa_mortalidad = mundo.deaths / poblacion_mundial\n",
    "tasa_mortalidad"
   ]
  },
  {
   "cell_type": "markdown",
   "metadata": {},
   "source": [
    "## Hasta el día de la fecha (19/10/2020), el Covid-19 presenta 40.599.201 contagios a nivel mundial, con 1.122.091 fallecidos, lo que arroja una tasa de letalidad de 0.028%. En cuanto a la tasa de mortalidad, se observa un bajo 0.0001%."
   ]
  },
  {
   "cell_type": "code",
   "execution_count": 27,
   "metadata": {},
   "outputs": [
    {
     "data": {
      "text/plain": [
       "0    74.7\n",
       "dtype: float64"
      ]
     },
     "execution_count": 27,
     "metadata": {},
     "output_type": "execute_result"
    }
   ],
   "source": [
    "porcentaje_recuperados = round(mundo.recovered * 100 / mundo.cases, 2)\n",
    "porcentaje_recuperados"
   ]
  },
  {
   "cell_type": "code",
   "execution_count": 24,
   "metadata": {},
   "outputs": [
    {
     "data": {
      "text/plain": [
       "0    23.96\n",
       "dtype: float64"
      ]
     },
     "execution_count": 24,
     "metadata": {},
     "output_type": "execute_result"
    }
   ],
   "source": [
    "porcentaje_criticos = round(mundo.critical * 100 / mundo.todayCases, 2)\n",
    "porcentaje_criticos"
   ]
  },
  {
   "cell_type": "code",
   "execution_count": 32,
   "metadata": {},
   "outputs": [],
   "source": [
    "total_casos = data[1:].groupby('country')['cases'].sum().sort_values(ascending=False).head(10)"
   ]
  },
  {
   "cell_type": "code",
   "execution_count": 33,
   "metadata": {},
   "outputs": [
    {
     "data": {
      "text/plain": [
       "country\n",
       "USA          8443499\n",
       "India        7594284\n",
       "Brazil       5250727\n",
       "Russia       1415316\n",
       "Spain        1015795\n",
       "Argentina     989680\n",
       "Colombia      965883\n",
       "France        910277\n",
       "Peru          868675\n",
       "Mexico        851227\n",
       "Name: cases, dtype: int64"
      ]
     },
     "execution_count": 33,
     "metadata": {},
     "output_type": "execute_result"
    }
   ],
   "source": [
    "total_casos"
   ]
  },
  {
   "cell_type": "code",
   "execution_count": 1,
   "metadata": {},
   "outputs": [
    {
     "ename": "NameError",
     "evalue": "name 'plt' is not defined",
     "output_type": "error",
     "traceback": [
      "\u001b[1;31m---------------------------------------------------------------------------\u001b[0m",
      "\u001b[1;31mNameError\u001b[0m                                 Traceback (most recent call last)",
      "\u001b[1;32m<ipython-input-1-fa16a73ed629>\u001b[0m in \u001b[0;36m<module>\u001b[1;34m\u001b[0m\n\u001b[0;32m      3\u001b[0m \u001b[0mpaises\u001b[0m \u001b[1;33m=\u001b[0m \u001b[1;33m[\u001b[0m\u001b[1;34m'USA'\u001b[0m\u001b[1;33m,\u001b[0m \u001b[1;34m'India'\u001b[0m\u001b[1;33m,\u001b[0m \u001b[1;34m'Brazil'\u001b[0m\u001b[1;33m,\u001b[0m \u001b[1;34m'Russia'\u001b[0m\u001b[1;33m,\u001b[0m \u001b[1;34m'Spain'\u001b[0m\u001b[1;33m,\u001b[0m \u001b[1;34m'Argentina'\u001b[0m\u001b[1;33m,\u001b[0m \u001b[1;34m'Colombia'\u001b[0m\u001b[1;33m,\u001b[0m \u001b[1;34m'France'\u001b[0m\u001b[1;33m,\u001b[0m \u001b[1;34m'Peru'\u001b[0m\u001b[1;33m,\u001b[0m \u001b[1;34m'Mexico'\u001b[0m\u001b[1;33m]\u001b[0m\u001b[1;33m\u001b[0m\u001b[1;33m\u001b[0m\u001b[0m\n\u001b[0;32m      4\u001b[0m \u001b[0mcolors\u001b[0m \u001b[1;33m=\u001b[0m \u001b[1;34m'rgbkymcrgb'\u001b[0m\u001b[1;33m\u001b[0m\u001b[1;33m\u001b[0m\u001b[0m\n\u001b[1;32m----> 5\u001b[1;33m \u001b[0mplt\u001b[0m\u001b[1;33m.\u001b[0m\u001b[0mfigure\u001b[0m\u001b[1;33m(\u001b[0m\u001b[0mfigsize\u001b[0m\u001b[1;33m=\u001b[0m\u001b[1;33m(\u001b[0m\u001b[1;36m12\u001b[0m\u001b[1;33m,\u001b[0m\u001b[1;36m6\u001b[0m\u001b[1;33m)\u001b[0m\u001b[1;33m)\u001b[0m\u001b[1;33m\u001b[0m\u001b[1;33m\u001b[0m\u001b[0m\n\u001b[0m\u001b[0;32m      6\u001b[0m \u001b[0mplt\u001b[0m\u001b[1;33m.\u001b[0m\u001b[0mbar\u001b[0m\u001b[1;33m(\u001b[0m\u001b[0mpaises\u001b[0m\u001b[1;33m,\u001b[0m \u001b[0mtotal_casos\u001b[0m\u001b[1;33m,\u001b[0m \u001b[0mwidth\u001b[0m\u001b[1;33m=\u001b[0m\u001b[1;36m0.5\u001b[0m\u001b[1;33m,\u001b[0m \u001b[0mcolor\u001b[0m\u001b[1;33m=\u001b[0m\u001b[0mcolors\u001b[0m\u001b[1;33m)\u001b[0m\u001b[1;33m\u001b[0m\u001b[1;33m\u001b[0m\u001b[0m\n\u001b[0;32m      7\u001b[0m \u001b[0mplt\u001b[0m\u001b[1;33m.\u001b[0m\u001b[0mshow\u001b[0m\u001b[1;33m(\u001b[0m\u001b[1;33m)\u001b[0m\u001b[1;33m\u001b[0m\u001b[1;33m\u001b[0m\u001b[0m\n",
      "\u001b[1;31mNameError\u001b[0m: name 'plt' is not defined"
     ]
    }
   ],
   "source": [
    "#Gráfico básico con Matplotlib:\n",
    "\n",
    "paises = ['USA', 'India', 'Brazil', 'Russia', 'Spain', 'Argentina', 'Colombia', 'France', 'Peru', 'Mexico']\n",
    "colors = 'rgbkymcrgb'\n",
    "plt.figure(figsize=(12,6))\n",
    "plt.bar(paises, total_casos, width=0.5, color=colors)\n",
    "plt.show()"
   ]
  },
  {
   "cell_type": "code",
   "execution_count": 52,
   "metadata": {},
   "outputs": [
    {
     "data": {
      "image/png": "[encoded data removed]",
      "text/plain": [
       "<Figure size 864x432 with 1 Axes>"
      ]
     },
     "metadata": {},
     "output_type": "display_data"
    }
   ],
   "source": [
    "#Gráfico tuneado con Seaborn:\n",
    "\n",
    "sns.set()\n",
    "color = sns.color_palette(\"Set2\")\n",
    "plt.figure(figsize=(12,6))\n",
    "sns.barplot(paises, total_casos, palette=color)\n",
    "plt.show()"
   ]
  },
  {
   "cell_type": "code",
   "execution_count": 53,
   "metadata": {},
   "outputs": [],
   "source": [
    "paises_mas_casos = data[data.cases >= 851227]"
   ]
  },
  {
   "cell_type": "code",
   "execution_count": 55,
   "metadata": {},
   "outputs": [
    {
     "data": {
      "text/html": [
       "<div>\n",
       "<style scoped>\n",
       "    .dataframe tbody tr th:only-of-type {\n",
       "        vertical-align: middle;\n",
       "    }\n",
       "\n",
       "    .dataframe tbody tr th {\n",
       "        vertical-align: top;\n",
       "    }\n",
       "\n",
       "    .dataframe thead th {\n",
       "        text-align: right;\n",
       "    }\n",
       "</style>\n",
       "<table border=\"1\" class=\"dataframe\">\n",
       "  <thead>\n",
       "    <tr style=\"text-align: right;\">\n",
       "      <th></th>\n",
       "      <th>country</th>\n",
       "      <th>cases</th>\n",
       "      <th>todayCases</th>\n",
       "      <th>deaths</th>\n",
       "      <th>todayDeaths</th>\n",
       "      <th>recovered</th>\n",
       "      <th>active</th>\n",
       "      <th>critical</th>\n",
       "      <th>casesPerOneMillion</th>\n",
       "      <th>deathsPerOneMillion</th>\n",
       "      <th>totalTests</th>\n",
       "      <th>testsPerOneMillion</th>\n",
       "    </tr>\n",
       "  </thead>\n",
       "  <tbody>\n",
       "    <tr>\n",
       "      <th>1</th>\n",
       "      <td>USA</td>\n",
       "      <td>8443499</td>\n",
       "      <td>45398</td>\n",
       "      <td>225151</td>\n",
       "      <td>377</td>\n",
       "      <td>5491461.0</td>\n",
       "      <td>2726887.0</td>\n",
       "      <td>15365</td>\n",
       "      <td>25464</td>\n",
       "      <td>679</td>\n",
       "      <td>126935424</td>\n",
       "      <td>382815</td>\n",
       "    </tr>\n",
       "    <tr>\n",
       "      <th>2</th>\n",
       "      <td>India</td>\n",
       "      <td>7594284</td>\n",
       "      <td>46046</td>\n",
       "      <td>115235</td>\n",
       "      <td>593</td>\n",
       "      <td>6730379.0</td>\n",
       "      <td>748670.0</td>\n",
       "      <td>8944</td>\n",
       "      <td>5487</td>\n",
       "      <td>83</td>\n",
       "      <td>95083976</td>\n",
       "      <td>68700</td>\n",
       "    </tr>\n",
       "    <tr>\n",
       "      <th>3</th>\n",
       "      <td>Brazil</td>\n",
       "      <td>5250727</td>\n",
       "      <td>15383</td>\n",
       "      <td>154176</td>\n",
       "      <td>271</td>\n",
       "      <td>4681659.0</td>\n",
       "      <td>414892.0</td>\n",
       "      <td>8318</td>\n",
       "      <td>24650</td>\n",
       "      <td>724</td>\n",
       "      <td>17900000</td>\n",
       "      <td>84033</td>\n",
       "    </tr>\n",
       "    <tr>\n",
       "      <th>4</th>\n",
       "      <td>Russia</td>\n",
       "      <td>1415316</td>\n",
       "      <td>15982</td>\n",
       "      <td>24366</td>\n",
       "      <td>179</td>\n",
       "      <td>1075904.0</td>\n",
       "      <td>315046.0</td>\n",
       "      <td>2300</td>\n",
       "      <td>9697</td>\n",
       "      <td>167</td>\n",
       "      <td>54300208</td>\n",
       "      <td>372038</td>\n",
       "    </tr>\n",
       "    <tr>\n",
       "      <th>5</th>\n",
       "      <td>Spain</td>\n",
       "      <td>1015795</td>\n",
       "      <td>12214</td>\n",
       "      <td>33992</td>\n",
       "      <td>73</td>\n",
       "      <td>NaN</td>\n",
       "      <td>NaN</td>\n",
       "      <td>1857</td>\n",
       "      <td>21723</td>\n",
       "      <td>727</td>\n",
       "      <td>15503165</td>\n",
       "      <td>331546</td>\n",
       "    </tr>\n",
       "    <tr>\n",
       "      <th>6</th>\n",
       "      <td>Argentina</td>\n",
       "      <td>989680</td>\n",
       "      <td>0</td>\n",
       "      <td>26267</td>\n",
       "      <td>0</td>\n",
       "      <td>803965.0</td>\n",
       "      <td>159448.0</td>\n",
       "      <td>4387</td>\n",
       "      <td>21838</td>\n",
       "      <td>580</td>\n",
       "      <td>2373496</td>\n",
       "      <td>52372</td>\n",
       "    </tr>\n",
       "    <tr>\n",
       "      <th>7</th>\n",
       "      <td>Colombia</td>\n",
       "      <td>965883</td>\n",
       "      <td>6311</td>\n",
       "      <td>29102</td>\n",
       "      <td>132</td>\n",
       "      <td>867961.0</td>\n",
       "      <td>68820.0</td>\n",
       "      <td>2115</td>\n",
       "      <td>18922</td>\n",
       "      <td>570</td>\n",
       "      <td>4467051</td>\n",
       "      <td>87513</td>\n",
       "    </tr>\n",
       "    <tr>\n",
       "      <th>8</th>\n",
       "      <td>France</td>\n",
       "      <td>910277</td>\n",
       "      <td>13243</td>\n",
       "      <td>33623</td>\n",
       "      <td>146</td>\n",
       "      <td>105935.0</td>\n",
       "      <td>770719.0</td>\n",
       "      <td>2099</td>\n",
       "      <td>13936</td>\n",
       "      <td>515</td>\n",
       "      <td>13765883</td>\n",
       "      <td>210755</td>\n",
       "    </tr>\n",
       "    <tr>\n",
       "      <th>9</th>\n",
       "      <td>Peru</td>\n",
       "      <td>868675</td>\n",
       "      <td>0</td>\n",
       "      <td>33759</td>\n",
       "      <td>0</td>\n",
       "      <td>779779.0</td>\n",
       "      <td>55137.0</td>\n",
       "      <td>1068</td>\n",
       "      <td>26238</td>\n",
       "      <td>1020</td>\n",
       "      <td>4230353</td>\n",
       "      <td>127775</td>\n",
       "    </tr>\n",
       "    <tr>\n",
       "      <th>10</th>\n",
       "      <td>Mexico</td>\n",
       "      <td>851227</td>\n",
       "      <td>4119</td>\n",
       "      <td>86167</td>\n",
       "      <td>108</td>\n",
       "      <td>619036.0</td>\n",
       "      <td>146024.0</td>\n",
       "      <td>2617</td>\n",
       "      <td>6582</td>\n",
       "      <td>666</td>\n",
       "      <td>2183272</td>\n",
       "      <td>16881</td>\n",
       "    </tr>\n",
       "  </tbody>\n",
       "</table>\n",
       "</div>"
      ],
      "text/plain": [
       "      country    cases  todayCases  deaths  todayDeaths  recovered     active  \\\n",
       "1         USA  8443499       45398  225151          377  5491461.0  2726887.0   \n",
       "2       India  7594284       46046  115235          593  6730379.0   748670.0   \n",
       "3      Brazil  5250727       15383  154176          271  4681659.0   414892.0   \n",
       "4      Russia  1415316       15982   24366          179  1075904.0   315046.0   \n",
       "5       Spain  1015795       12214   33992           73        NaN        NaN   \n",
       "6   Argentina   989680           0   26267            0   803965.0   159448.0   \n",
       "7    Colombia   965883        6311   29102          132   867961.0    68820.0   \n",
       "8      France   910277       13243   33623          146   105935.0   770719.0   \n",
       "9        Peru   868675           0   33759            0   779779.0    55137.0   \n",
       "10     Mexico   851227        4119   86167          108   619036.0   146024.0   \n",
       "\n",
       "    critical  casesPerOneMillion  deathsPerOneMillion  totalTests  \\\n",
       "1      15365               25464                  679   126935424   \n",
       "2       8944                5487                   83    95083976   \n",
       "3       8318               24650                  724    17900000   \n",
       "4       2300                9697                  167    54300208   \n",
       "5       1857               21723                  727    15503165   \n",
       "6       4387               21838                  580     2373496   \n",
       "7       2115               18922                  570     4467051   \n",
       "8       2099               13936                  515    13765883   \n",
       "9       1068               26238                 1020     4230353   \n",
       "10      2617                6582                  666     2183272   \n",
       "\n",
       "    testsPerOneMillion  \n",
       "1               382815  \n",
       "2                68700  \n",
       "3                84033  \n",
       "4               372038  \n",
       "5               331546  \n",
       "6                52372  \n",
       "7                87513  \n",
       "8               210755  \n",
       "9               127775  \n",
       "10               16881  "
      ]
     },
     "execution_count": 55,
     "metadata": {},
     "output_type": "execute_result"
    }
   ],
   "source": [
    "paises_mas_casos = paises_mas_casos[1:]\n",
    "paises_mas_casos"
   ]
  },
  {
   "cell_type": "code",
   "execution_count": 61,
   "metadata": {},
   "outputs": [
    {
     "data": {
      "image/png": "[encoded data removed]",
      "text/plain": [
       "<Figure size 720x432 with 1 Axes>"
      ]
     },
     "metadata": {},
     "output_type": "display_data"
    }
   ],
   "source": [
    "plt.figure(figsize=(10,6))\n",
    "sns.barplot(x=\"country\", y=\"cases\", data=paises_mas_casos)\n",
    "plt.show()"
   ]
  },
  {
   "cell_type": "code",
   "execution_count": 65,
   "metadata": {},
   "outputs": [],
   "source": [
    "casos_por_millon = data.groupby('country')['casesPerOneMillion'].sum().sort_values(ascending=False).head(10)"
   ]
  },
  {
   "cell_type": "code",
   "execution_count": 63,
   "metadata": {},
   "outputs": [
    {
     "data": {
      "text/plain": [
       "country\n",
       "Andorra          46868\n",
       "Qatar            46182\n",
       "Bahrain          45518\n",
       "Aruba            40542\n",
       "French Guiana    34120\n",
       "Vatican City     33666\n",
       "Israel           33147\n",
       "Panama           28777\n",
       "Kuwait           27238\n",
       "Peru             26238\n",
       "Name: casesPerOneMillion, dtype: int64"
      ]
     },
     "execution_count": 63,
     "metadata": {},
     "output_type": "execute_result"
    }
   ],
   "source": [
    "casos_por_millon"
   ]
  },
  {
   "cell_type": "code",
   "execution_count": 66,
   "metadata": {},
   "outputs": [],
   "source": [
    "mas_casos_por_millon = data[data.casesPerOneMillion >= 26238]"
   ]
  },
  {
   "cell_type": "code",
   "execution_count": 75,
   "metadata": {},
   "outputs": [
    {
     "name": "stderr",
     "output_type": "stream",
     "text": [
      "<ipython-input-75-8c8ec8494d9b>:1: SettingWithCopyWarning: \n",
      "A value is trying to be set on a copy of a slice from a DataFrame\n",
      "\n",
      "See the caveats in the documentation: https://pandas.pydata.org/pandas-docs/stable/user_guide/indexing.html#returning-a-view-versus-a-copy\n",
      "  mas_casos_por_millon.sort_values('casesPerOneMillion', inplace=True)\n"
     ]
    }
   ],
   "source": [
    "mas_casos_por_millon.sort_values('casesPerOneMillion', inplace=True)\n",
    "mas_casos_por_millon.reset_index(drop=True, inplace = True)"
   ]
  },
  {
   "cell_type": "code",
   "execution_count": 76,
   "metadata": {},
   "outputs": [
    {
     "data": {
      "text/html": [
       "<div>\n",
       "<style scoped>\n",
       "    .dataframe tbody tr th:only-of-type {\n",
       "        vertical-align: middle;\n",
       "    }\n",
       "\n",
       "    .dataframe tbody tr th {\n",
       "        vertical-align: top;\n",
       "    }\n",
       "\n",
       "    .dataframe thead th {\n",
       "        text-align: right;\n",
       "    }\n",
       "</style>\n",
       "<table border=\"1\" class=\"dataframe\">\n",
       "  <thead>\n",
       "    <tr style=\"text-align: right;\">\n",
       "      <th></th>\n",
       "      <th>country</th>\n",
       "      <th>cases</th>\n",
       "      <th>todayCases</th>\n",
       "      <th>deaths</th>\n",
       "      <th>todayDeaths</th>\n",
       "      <th>recovered</th>\n",
       "      <th>active</th>\n",
       "      <th>critical</th>\n",
       "      <th>casesPerOneMillion</th>\n",
       "      <th>deathsPerOneMillion</th>\n",
       "      <th>totalTests</th>\n",
       "      <th>testsPerOneMillion</th>\n",
       "    </tr>\n",
       "  </thead>\n",
       "  <tbody>\n",
       "    <tr>\n",
       "      <th>0</th>\n",
       "      <td>Peru</td>\n",
       "      <td>868675</td>\n",
       "      <td>0</td>\n",
       "      <td>33759</td>\n",
       "      <td>0</td>\n",
       "      <td>779779.0</td>\n",
       "      <td>55137.0</td>\n",
       "      <td>1068</td>\n",
       "      <td>26238</td>\n",
       "      <td>1020</td>\n",
       "      <td>4230353</td>\n",
       "      <td>127775</td>\n",
       "    </tr>\n",
       "    <tr>\n",
       "      <th>1</th>\n",
       "      <td>Kuwait</td>\n",
       "      <td>116832</td>\n",
       "      <td>686</td>\n",
       "      <td>710</td>\n",
       "      <td>9</td>\n",
       "      <td>108606.0</td>\n",
       "      <td>7516.0</td>\n",
       "      <td>133</td>\n",
       "      <td>27238</td>\n",
       "      <td>166</td>\n",
       "      <td>834167</td>\n",
       "      <td>194478</td>\n",
       "    </tr>\n",
       "    <tr>\n",
       "      <th>2</th>\n",
       "      <td>Panama</td>\n",
       "      <td>124745</td>\n",
       "      <td>0</td>\n",
       "      <td>2564</td>\n",
       "      <td>0</td>\n",
       "      <td>101041.0</td>\n",
       "      <td>21140.0</td>\n",
       "      <td>107</td>\n",
       "      <td>28777</td>\n",
       "      <td>591</td>\n",
       "      <td>582974</td>\n",
       "      <td>134486</td>\n",
       "    </tr>\n",
       "    <tr>\n",
       "      <th>3</th>\n",
       "      <td>Israel</td>\n",
       "      <td>304876</td>\n",
       "      <td>1767</td>\n",
       "      <td>2263</td>\n",
       "      <td>54</td>\n",
       "      <td>278394.0</td>\n",
       "      <td>24219.0</td>\n",
       "      <td>634</td>\n",
       "      <td>33147</td>\n",
       "      <td>246</td>\n",
       "      <td>4226477</td>\n",
       "      <td>459520</td>\n",
       "    </tr>\n",
       "    <tr>\n",
       "      <th>4</th>\n",
       "      <td>Vatican City</td>\n",
       "      <td>27</td>\n",
       "      <td>0</td>\n",
       "      <td>0</td>\n",
       "      <td>0</td>\n",
       "      <td>15.0</td>\n",
       "      <td>12.0</td>\n",
       "      <td>0</td>\n",
       "      <td>33666</td>\n",
       "      <td>0</td>\n",
       "      <td>0</td>\n",
       "      <td>0</td>\n",
       "    </tr>\n",
       "    <tr>\n",
       "      <th>5</th>\n",
       "      <td>French Guiana</td>\n",
       "      <td>10268</td>\n",
       "      <td>25</td>\n",
       "      <td>69</td>\n",
       "      <td>0</td>\n",
       "      <td>9995.0</td>\n",
       "      <td>204.0</td>\n",
       "      <td>5</td>\n",
       "      <td>34120</td>\n",
       "      <td>229</td>\n",
       "      <td>71790</td>\n",
       "      <td>238557</td>\n",
       "    </tr>\n",
       "    <tr>\n",
       "      <th>6</th>\n",
       "      <td>Aruba</td>\n",
       "      <td>4334</td>\n",
       "      <td>12</td>\n",
       "      <td>34</td>\n",
       "      <td>0</td>\n",
       "      <td>4040.0</td>\n",
       "      <td>260.0</td>\n",
       "      <td>4</td>\n",
       "      <td>40542</td>\n",
       "      <td>318</td>\n",
       "      <td>36680</td>\n",
       "      <td>343118</td>\n",
       "    </tr>\n",
       "    <tr>\n",
       "      <th>7</th>\n",
       "      <td>Bahrain</td>\n",
       "      <td>78224</td>\n",
       "      <td>322</td>\n",
       "      <td>302</td>\n",
       "      <td>2</td>\n",
       "      <td>74683.0</td>\n",
       "      <td>3239.0</td>\n",
       "      <td>35</td>\n",
       "      <td>45518</td>\n",
       "      <td>176</td>\n",
       "      <td>1628076</td>\n",
       "      <td>947364</td>\n",
       "    </tr>\n",
       "    <tr>\n",
       "      <th>8</th>\n",
       "      <td>Qatar</td>\n",
       "      <td>129671</td>\n",
       "      <td>240</td>\n",
       "      <td>224</td>\n",
       "      <td>0</td>\n",
       "      <td>126650.0</td>\n",
       "      <td>2797.0</td>\n",
       "      <td>49</td>\n",
       "      <td>46182</td>\n",
       "      <td>80</td>\n",
       "      <td>886186</td>\n",
       "      <td>315615</td>\n",
       "    </tr>\n",
       "    <tr>\n",
       "      <th>9</th>\n",
       "      <td>Andorra</td>\n",
       "      <td>3623</td>\n",
       "      <td>246</td>\n",
       "      <td>62</td>\n",
       "      <td>3</td>\n",
       "      <td>2273.0</td>\n",
       "      <td>1288.0</td>\n",
       "      <td>22</td>\n",
       "      <td>46868</td>\n",
       "      <td>802</td>\n",
       "      <td>137457</td>\n",
       "      <td>1778182</td>\n",
       "    </tr>\n",
       "  </tbody>\n",
       "</table>\n",
       "</div>"
      ],
      "text/plain": [
       "         country   cases  todayCases  deaths  todayDeaths  recovered   active  \\\n",
       "0           Peru  868675           0   33759            0   779779.0  55137.0   \n",
       "1         Kuwait  116832         686     710            9   108606.0   7516.0   \n",
       "2         Panama  124745           0    2564            0   101041.0  21140.0   \n",
       "3         Israel  304876        1767    2263           54   278394.0  24219.0   \n",
       "4   Vatican City      27           0       0            0       15.0     12.0   \n",
       "5  French Guiana   10268          25      69            0     9995.0    204.0   \n",
       "6          Aruba    4334          12      34            0     4040.0    260.0   \n",
       "7        Bahrain   78224         322     302            2    74683.0   3239.0   \n",
       "8          Qatar  129671         240     224            0   126650.0   2797.0   \n",
       "9        Andorra    3623         246      62            3     2273.0   1288.0   \n",
       "\n",
       "   critical  casesPerOneMillion  deathsPerOneMillion  totalTests  \\\n",
       "0      1068               26238                 1020     4230353   \n",
       "1       133               27238                  166      834167   \n",
       "2       107               28777                  591      582974   \n",
       "3       634               33147                  246     4226477   \n",
       "4         0               33666                    0           0   \n",
       "5         5               34120                  229       71790   \n",
       "6         4               40542                  318       36680   \n",
       "7        35               45518                  176     1628076   \n",
       "8        49               46182                   80      886186   \n",
       "9        22               46868                  802      137457   \n",
       "\n",
       "   testsPerOneMillion  \n",
       "0              127775  \n",
       "1              194478  \n",
       "2              134486  \n",
       "3              459520  \n",
       "4                   0  \n",
       "5              238557  \n",
       "6              343118  \n",
       "7              947364  \n",
       "8              315615  \n",
       "9             1778182  "
      ]
     },
     "execution_count": 76,
     "metadata": {},
     "output_type": "execute_result"
    }
   ],
   "source": [
    "mas_casos_por_millon"
   ]
  },
  {
   "cell_type": "code",
   "execution_count": 84,
   "metadata": {},
   "outputs": [
    {
     "data": {
      "image/png": "[encoded data removed]",
      "text/plain": [
       "<Figure size 1008x576 with 1 Axes>"
      ]
     },
     "metadata": {},
     "output_type": "display_data"
    },
    {
     "data": {
      "text/plain": [
       "<Figure size 432x288 with 0 Axes>"
      ]
     },
     "metadata": {},
     "output_type": "display_data"
    }
   ],
   "source": [
    "plt.figure(figsize=(14,8))\n",
    "sns.barplot(x=\"country\", y=\"casesPerOneMillion\", data=mas_casos_por_millon)\n",
    "plt.xlabel('Países', fontstyle='italic')\n",
    "plt.ylabel('Casos por millón de habitantes', fontstyle='italic')          \n",
    "plt.show()\n",
    "plt.tight_layout()"
   ]
  },
  {
   "cell_type": "code",
   "execution_count": null,
   "metadata": {},
   "outputs": [],
   "source": []
  }
 ],
 "metadata": {
  "kernelspec": {
   "display_name": "Python 3",
   "language": "python",
   "name": "python3"
  },
  "language_info": {
   "codemirror_mode": {
    "name": "ipython",
    "version": 3
   },
   "file_extension": ".py",
   "mimetype": "text/x-python",
   "name": "python",
   "nbconvert_exporter": "python",
   "pygments_lexer": "ipython3",
   "version": "3.8.3"
  }
 },
 "nbformat": 4,
 "nbformat_minor": 4
}
